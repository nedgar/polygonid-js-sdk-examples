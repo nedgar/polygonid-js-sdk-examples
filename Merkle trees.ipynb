{
 "cells": [
  {
   "cell_type": "markdown",
   "id": "87bc7525-49c5-4e5a-912c-e2c518846342",
   "metadata": {},
   "source": [
    "# Merkle tree examples using Iden3's js-merkletree package\n",
    "\n",
    "Adapted from https://github.com/0xPolygonID/tutorial-examples/blob/main/issuer-protocol/main.go#L37"
   ]
  },
  {
   "cell_type": "code",
   "execution_count": 162,
   "id": "a2514f29-e3b1-4cfe-b9f3-0cbc745ae2e9",
   "metadata": {
    "tags": []
   },
   "outputs": [],
   "source": [
    "import { Hash, InMemoryDB, Merkletree } from \"@iden3/js-merkletree\""
   ]
  },
  {
   "cell_type": "markdown",
   "id": "b491e992-d593-40e2-a4bf-03c42a6953a8",
   "metadata": {
    "tags": []
   },
   "source": [
    "## Helper functions"
   ]
  },
  {
   "cell_type": "code",
   "execution_count": 163,
   "id": "25658373-03bb-4476-9ee1-aa313a8a65a9",
   "metadata": {},
   "outputs": [],
   "source": [
    "const jsonReplacer = (k: string, v: any) => {\n",
    "    if ((typeof v) === 'bigint') {\n",
    "        return v > Number.MAX_SAFE_INTEGER ? v.toString() : Number(v);\n",
    "    } else if (v instanceof Hash) {\n",
    "        return `0x${v.hex()}`;\n",
    "    } else if (v instanceof Uint8Array) {\n",
    "        return Array.from(v);\n",
    "    } else {\n",
    "        return v;\n",
    "    }\n",
    "}\n",
    "\n",
    "const json = (obj: any, indent = 2) => JSON.stringify(obj, jsonReplacer, indent)"
   ]
  },
  {
   "cell_type": "markdown",
   "id": "0b66d9f2-ea04-4969-86fa-a719547cf9bb",
   "metadata": {
    "tags": []
   },
   "source": [
    "## Sparse Merkle Tree"
   ]
  },
  {
   "cell_type": "code",
   "execution_count": 164,
   "id": "98df92a5-796a-47c3-af69-5346b68737db",
   "metadata": {
    "tags": []
   },
   "outputs": [
    {
     "name": "stdout",
     "output_type": "stream",
     "text": [
      "Merkletree {}\n"
     ]
    }
   ],
   "source": [
    "// create a new Merkle Tree with 32 levels\n",
    "const prefix = new TextEncoder().encode(\"test\")\n",
    "const store = new InMemoryDB(prefix)\n",
    "const mt = new Merkletree(store, true, 32)\n",
    "mt"
   ]
  },
  {
   "cell_type": "code",
   "execution_count": 165,
   "id": "b09fcc58-8989-4c77-9b91-cd99b51566a5",
   "metadata": {
    "tags": []
   },
   "outputs": [],
   "source": [
    "// add a leaf to the tree with index 1 and value 10\n",
    "await mt.add(BigInt(1), BigInt(10))"
   ]
  },
  {
   "cell_type": "code",
   "execution_count": 166,
   "id": "b79ea1d3-5549-4e93-8457-8be7961bef18",
   "metadata": {
    "tags": []
   },
   "outputs": [
    {
     "name": "stdout",
     "output_type": "stream",
     "text": [
      "{ key: \u001b[33m1n\u001b[39m, value: \u001b[33m10n\u001b[39m, siblings: [] }\n"
     ]
    }
   ],
   "source": [
    "// getting a missing key does not fail but returns sibling if it would be in same leaf node\n",
    "await mt.get(BigInt(2))"
   ]
  },
  {
   "cell_type": "code",
   "execution_count": 167,
   "id": "226f789c-e155-4b99-bdf0-1568b3aaff91",
   "metadata": {
    "tags": []
   },
   "outputs": [
    {
     "name": "stdout",
     "output_type": "stream",
     "text": [
      "9ca1b6b8c60955e4695bcbe587b728d7d34292252ae9becc6341bb2ddd793b27\n"
     ]
    }
   ],
   "source": [
    "(await mt.root()).hex()"
   ]
  },
  {
   "cell_type": "code",
   "execution_count": 168,
   "id": "b5799dba-ee79-4f12-b0d8-7a38a6a8a7d8",
   "metadata": {
    "tags": []
   },
   "outputs": [
    {
     "name": "stderr",
     "output_type": "stream",
     "text": [
      "the entry index already exists in the tree\n"
     ]
    }
   ],
   "source": [
    "// error if entry with same index already exists\n",
    "await mt.add(BigInt(1), BigInt(10))"
   ]
  },
  {
   "cell_type": "code",
   "execution_count": 169,
   "id": "44a10dfd-4f4c-4ddd-8c9d-22113fde9e89",
   "metadata": {
    "tags": []
   },
   "outputs": [],
   "source": [
    "// add another leaf to the tree\n",
    "await mt.add(BigInt(3), BigInt(15))"
   ]
  },
  {
   "cell_type": "code",
   "execution_count": 170,
   "id": "f61ea2fd-be71-440f-99b7-a555aaa6c593",
   "metadata": {
    "tags": []
   },
   "outputs": [
    {
     "name": "stdout",
     "output_type": "stream",
     "text": [
      "bb58b3663b7bb4078a917dccb87607b9eddb1979b9cbf65836689b445ce9412b\n"
     ]
    }
   ],
   "source": [
    "// the root hash has changed\n",
    "(await mt.root()).hex()"
   ]
  },
  {
   "cell_type": "code",
   "execution_count": 171,
   "id": "54a5140a-d4ed-48c5-98dc-67c3c4620510",
   "metadata": {
    "tags": []
   },
   "outputs": [
    {
     "name": "stdout",
     "output_type": "stream",
     "text": [
      "{ key: \u001b[33m0n\u001b[39m, value: \u001b[33m0n\u001b[39m, siblings: [ Hash { bytes: \u001b[36m[Uint8Array]\u001b[39m } ] }\n"
     ]
    }
   ],
   "source": [
    "// now it returns key: 0, value: 0 because there's no corresponding leaf node\n",
    "await mt.get(BigInt(2))"
   ]
  },
  {
   "cell_type": "code",
   "execution_count": 172,
   "id": "601bbbd4-8860-4250-99fb-4268e260bcc7",
   "metadata": {
    "tags": []
   },
   "outputs": [
    {
     "name": "stdout",
     "output_type": "stream",
     "text": [
      "{\n",
      "  \"key\": 0,\n",
      "  \"value\": 0,\n",
      "  \"siblings\": [\n",
      "    \"0xc9a8af1adad15ca8977e2f7939cd09d3d84c061c66caef711cb5b7cc26c4a011\"\n",
      "  ]\n",
      "}\n"
     ]
    }
   ],
   "source": [
    "// the siblings are Hash objects; use json() to show them as hex\n",
    "json(await mt.get(BigInt(2)))"
   ]
  },
  {
   "cell_type": "code",
   "execution_count": 173,
   "id": "14c59909-1645-4a92-83d3-94ca7356163f",
   "metadata": {
    "tags": []
   },
   "outputs": [
    {
     "name": "stdout",
     "output_type": "stream",
     "text": [
      "{\n",
      "  \"proof\": {\n",
      "    \"existence\": true,\n",
      "    \"depth\": 2,\n",
      "    \"siblings\": [\n",
      "      \"0x6cc407c91e268cba6bd2169ddf1bea782c6c86147ec0c29d5961e654d2d3dc21\"\n",
      "    ],\n",
      "    \"notEmpties\": [\n",
      "      0,\n",
      "      0,\n",
      "      0,\n",
      "      0,\n",
      "      0,\n",
      "      0,\n",
      "      0,\n",
      "      0,\n",
      "      0,\n",
      "      0,\n",
      "      0,\n",
      "      0,\n",
      "      0,\n",
      "      0,\n",
      "      0,\n",
      "      0,\n",
      "      0,\n",
      "      0,\n",
      "      0,\n",
      "      0,\n",
      "      0,\n",
      "      0,\n",
      "      0,\n",
      "      0,\n",
      "      0,\n",
      "      0,\n",
      "      0,\n",
      "      0,\n",
      "      0,\n",
      "      2\n",
      "    ]\n",
      "  },\n",
      "  \"value\": 10\n",
      "}\n"
     ]
    }
   ],
   "source": [
    "// proof of membership of a leaf with index 1\n",
    "json(await mt.generateProof(BigInt(1)))"
   ]
  },
  {
   "cell_type": "code",
   "execution_count": 174,
   "id": "a8f39974-d1b4-4ff4-801f-c6f5e185126f",
   "metadata": {
    "tags": []
   },
   "outputs": [
    {
     "name": "stdout",
     "output_type": "stream",
     "text": [
      "{\n",
      "  \"proof\": {\n",
      "    \"existence\": false,\n",
      "    \"depth\": 1,\n",
      "    \"siblings\": [\n",
      "      \"0xc9a8af1adad15ca8977e2f7939cd09d3d84c061c66caef711cb5b7cc26c4a011\"\n",
      "    ],\n",
      "    \"notEmpties\": [\n",
      "      0,\n",
      "      0,\n",
      "      0,\n",
      "      0,\n",
      "      0,\n",
      "      0,\n",
      "      0,\n",
      "      0,\n",
      "      0,\n",
      "      0,\n",
      "      0,\n",
      "      0,\n",
      "      0,\n",
      "      0,\n",
      "      0,\n",
      "      0,\n",
      "      0,\n",
      "      0,\n",
      "      0,\n",
      "      0,\n",
      "      0,\n",
      "      0,\n",
      "      0,\n",
      "      0,\n",
      "      0,\n",
      "      0,\n",
      "      0,\n",
      "      0,\n",
      "      0,\n",
      "      1\n",
      "    ]\n",
      "  },\n",
      "  \"value\": 0\n",
      "}\n"
     ]
    }
   ],
   "source": [
    "// proof of non-membership of a leaf with index 4\n",
    "json(await mt.generateProof(BigInt(4)))"
   ]
  },
  {
   "cell_type": "code",
   "execution_count": 175,
   "id": "6a62e113-81bc-4e97-8fab-4d520fdd5fdb",
   "metadata": {
    "tags": []
   },
   "outputs": [
    {
     "name": "stdout",
     "output_type": "stream",
     "text": [
      "NodeMiddle {\n",
      "  type: \u001b[33m0\u001b[39m,\n",
      "  childL: Hash {\n",
      "    bytes: Uint8Array(32) [\n",
      "      \u001b[33m0\u001b[39m, \u001b[33m0\u001b[39m, \u001b[33m0\u001b[39m, \u001b[33m0\u001b[39m, \u001b[33m0\u001b[39m, \u001b[33m0\u001b[39m, \u001b[33m0\u001b[39m, \u001b[33m0\u001b[39m, \u001b[33m0\u001b[39m,\n",
      "      \u001b[33m0\u001b[39m, \u001b[33m0\u001b[39m, \u001b[33m0\u001b[39m, \u001b[33m0\u001b[39m, \u001b[33m0\u001b[39m, \u001b[33m0\u001b[39m, \u001b[33m0\u001b[39m, \u001b[33m0\u001b[39m, \u001b[33m0\u001b[39m,\n",
      "      \u001b[33m0\u001b[39m, \u001b[33m0\u001b[39m, \u001b[33m0\u001b[39m, \u001b[33m0\u001b[39m, \u001b[33m0\u001b[39m, \u001b[33m0\u001b[39m, \u001b[33m0\u001b[39m, \u001b[33m0\u001b[39m, \u001b[33m0\u001b[39m,\n",
      "      \u001b[33m0\u001b[39m, \u001b[33m0\u001b[39m, \u001b[33m0\u001b[39m, \u001b[33m0\u001b[39m, \u001b[33m0\u001b[39m\n",
      "    ]\n",
      "  },\n",
      "  childR: Hash {\n",
      "    bytes: Uint8Array(32) [\n",
      "      \u001b[33m201\u001b[39m, \u001b[33m168\u001b[39m, \u001b[33m175\u001b[39m,  \u001b[33m26\u001b[39m, \u001b[33m218\u001b[39m, \u001b[33m209\u001b[39m,  \u001b[33m92\u001b[39m, \u001b[33m168\u001b[39m,\n",
      "      \u001b[33m151\u001b[39m, \u001b[33m126\u001b[39m,  \u001b[33m47\u001b[39m, \u001b[33m121\u001b[39m,  \u001b[33m57\u001b[39m, \u001b[33m205\u001b[39m,   \u001b[33m9\u001b[39m, \u001b[33m211\u001b[39m,\n",
      "      \u001b[33m216\u001b[39m,  \u001b[33m76\u001b[39m,   \u001b[33m6\u001b[39m,  \u001b[33m28\u001b[39m, \u001b[33m102\u001b[39m, \u001b[33m202\u001b[39m, \u001b[33m239\u001b[39m, \u001b[33m113\u001b[39m,\n",
      "       \u001b[33m28\u001b[39m, \u001b[33m181\u001b[39m, \u001b[33m183\u001b[39m, \u001b[33m204\u001b[39m,  \u001b[33m38\u001b[39m, \u001b[33m196\u001b[39m, \u001b[33m160\u001b[39m,  \u001b[33m17\u001b[39m\n",
      "    ]\n",
      "  }\n",
      "}\n"
     ]
    }
   ],
   "source": [
    "let node = await mt.getNode(await mt.root())\n",
    "node"
   ]
  },
  {
   "cell_type": "code",
   "execution_count": 176,
   "id": "2f25ca97-fe8b-4fae-a6d4-bc1e97814d84",
   "metadata": {
    "tags": []
   },
   "outputs": [],
   "source": [
    "let middle = node as NodeMiddle;\n",
    "let key = await middle.getKey();"
   ]
  },
  {
   "cell_type": "code",
   "execution_count": 177,
   "id": "2f6d1e65-f922-4dc4-a4fa-f6bb129e1720",
   "metadata": {
    "tags": []
   },
   "outputs": [
    {
     "name": "stdout",
     "output_type": "stream",
     "text": [
      "bb58b3663b7bb4078a917dccb87607b9eddb1979b9cbf65836689b445ce9412b\n"
     ]
    }
   ],
   "source": [
    "key.hex()"
   ]
  },
  {
   "cell_type": "code",
   "execution_count": 178,
   "id": "c06e8084-78de-4669-97a6-79c81d8d06e9",
   "metadata": {
    "tags": []
   },
   "outputs": [
    {
     "name": "stdout",
     "output_type": "stream",
     "text": [
      "0000000000000000000000000000000000000000000000000000000000000000\n"
     ]
    }
   ],
   "source": [
    "middle.childL.hex()"
   ]
  },
  {
   "cell_type": "code",
   "execution_count": 179,
   "id": "a085f2d5-9bce-4e54-bab3-eadd40b0efe3",
   "metadata": {
    "tags": []
   },
   "outputs": [
    {
     "name": "stdout",
     "output_type": "stream",
     "text": [
      "c9a8af1adad15ca8977e2f7939cd09d3d84c061c66caef711cb5b7cc26c4a011\n"
     ]
    }
   ],
   "source": [
    "middle.childR.hex()"
   ]
  },
  {
   "cell_type": "code",
   "execution_count": 180,
   "id": "f1cfb66b-e927-413b-90e6-d158ffcb90c3",
   "metadata": {
    "tags": []
   },
   "outputs": [
    {
     "name": "stdout",
     "output_type": "stream",
     "text": [
      "--------\n",
      "GraphViz of the MerkleTree with RootKey 19565908142730111858456760771535224660726930410565280876738250865717282035899\n",
      "\n"
     ]
    },
    {
     "name": "stderr",
     "output_type": "stream",
     "text": [
      "RangeError: Maximum call stack size exceeded\n",
      "    at \u001b[90m/Users/nedgar/src/open-harbour/polygon-id-js-sdk-tutorial/\u001b[39mnode_modules/\u001b[4m@iden3\u001b[24m/js-merkletree/dist/cjs/lib/utils/bytes.js:8:16\n",
      "    at Uint8Array.forEach (<anonymous>)\n",
      "    at bytesEqual \u001b[90m(/Users/nedgar/src/open-harbour/polygon-id-js-sdk-tutorial/\u001b[39mnode_modules/\u001b[4m@iden3\u001b[24m/js-merkletree/dist/cjs/lib/utils/bytes.js:8:8\u001b[90m)\u001b[39m\n",
      "    at Merkletree.walk \u001b[90m(/Users/nedgar/src/open-harbour/polygon-id-js-sdk-tutorial/\u001b[39mnode_modules/\u001b[4m@iden3\u001b[24m/js-merkletree/dist/cjs/lib/merkletree/merkletree.js:388:36\u001b[90m)\u001b[39m\n",
      "    at Merkletree.walk \u001b[90m(/Users/nedgar/src/open-harbour/polygon-id-js-sdk-tutorial/\u001b[39mnode_modules/\u001b[4m@iden3\u001b[24m/js-merkletree/dist/cjs/lib/merkletree/merkletree.js:391:20\u001b[90m)\u001b[39m\n",
      "    at Merkletree.walk \u001b[90m(/Users/nedgar/src/open-harbour/polygon-id-js-sdk-tutorial/\u001b[39mnode_modules/\u001b[4m@iden3\u001b[24m/js-merkletree/dist/cjs/lib/merkletree/merkletree.js:391:20\u001b[90m)\u001b[39m\n",
      "    at Merkletree.walk \u001b[90m(/Users/nedgar/src/open-harbour/polygon-id-js-sdk-tutorial/\u001b[39mnode_modules/\u001b[4m@iden3\u001b[24m/js-merkletree/dist/cjs/lib/merkletree/merkletree.js:391:20\u001b[90m)\u001b[39m\n",
      "    at Merkletree.walk \u001b[90m(/Users/nedgar/src/open-harbour/polygon-id-js-sdk-tutorial/\u001b[39mnode_modules/\u001b[4m@iden3\u001b[24m/js-merkletree/dist/cjs/lib/merkletree/merkletree.js:391:20\u001b[90m)\u001b[39m\n",
      "    at Merkletree.walk \u001b[90m(/Users/nedgar/src/open-harbour/polygon-id-js-sdk-tutorial/\u001b[39mnode_modules/\u001b[4m@iden3\u001b[24m/js-merkletree/dist/cjs/lib/merkletree/merkletree.js:391:20\u001b[90m)\u001b[39m\n",
      "    at Merkletree.walk \u001b[90m(/Users/nedgar/src/open-harbour/polygon-id-js-sdk-tutorial/\u001b[39mnode_modules/\u001b[4m@iden3\u001b[24m/js-merkletree/dist/cjs/lib/merkletree/merkletree.js:391:20\u001b[90m)\u001b[39m\n"
     ]
    }
   ],
   "source": [
    "import { ZERO_HASH } from \"@iden3/js-merkletree\"\n",
    "\n",
    "await mt.printGraphViz(ZERO_HASH)"
   ]
  },
  {
   "cell_type": "code",
   "execution_count": null,
   "id": "6168f034-1ca9-4202-a732-40cccb5ddfed",
   "metadata": {},
   "outputs": [],
   "source": []
  },
  {
   "cell_type": "code",
   "execution_count": null,
   "id": "8ec7994e-82e0-404e-995f-e373eff4e11f",
   "metadata": {},
   "outputs": [],
   "source": []
  }
 ],
 "metadata": {
  "kernelspec": {
   "display_name": "TypeScript",
   "language": "typescript",
   "name": "tslab"
  },
  "language_info": {
   "codemirror_mode": {
    "mode": "typescript",
    "name": "javascript",
    "typescript": true
   },
   "file_extension": ".ts",
   "mimetype": "text/typescript",
   "name": "typescript",
   "version": "3.7.2"
  }
 },
 "nbformat": 4,
 "nbformat_minor": 5
}
