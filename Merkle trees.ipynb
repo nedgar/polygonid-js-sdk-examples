{
 "cells": [
  {
   "cell_type": "markdown",
   "id": "87bc7525-49c5-4e5a-912c-e2c518846342",
   "metadata": {},
   "source": [
    "# Merkle tree examples using Iden3's js-merkletree package\n",
    "\n",
    "Adapted from https://github.com/0xPolygonID/tutorial-examples/blob/main/issuer-protocol/main.go#L37"
   ]
  },
  {
   "cell_type": "code",
   "execution_count": 5,
   "id": "a2514f29-e3b1-4cfe-b9f3-0cbc745ae2e9",
   "metadata": {
    "tags": []
   },
   "outputs": [],
   "source": [
    "import { Hash, InMemoryDB, Merkletree } from \"@iden3/js-merkletree\""
   ]
  },
  {
   "cell_type": "markdown",
   "id": "b491e992-d593-40e2-a4bf-03c42a6953a8",
   "metadata": {
    "tags": []
   },
   "source": [
    "## Helper functions"
   ]
  },
  {
   "cell_type": "code",
   "execution_count": 3,
   "id": "25658373-03bb-4476-9ee1-aa313a8a65a9",
   "metadata": {},
   "outputs": [],
   "source": [
    "const jsonReplacer = (k: string, v: any) => {\n",
    "    if ((typeof v) === 'bigint') {\n",
    "        return v > Number.MAX_SAFE_INTEGER ? v.toString() : Number(v);\n",
    "    } else if (v instanceof Hash) {\n",
    "        return `0x${v.hex()}`;\n",
    "    } else {\n",
    "        return v;\n",
    "    }\n",
    "}\n",
    "\n",
    "const json = (obj: any, indent = 2) => JSON.stringify(obj, jsonReplacer, indent)"
   ]
  },
  {
   "cell_type": "markdown",
   "id": "0b66d9f2-ea04-4969-86fa-a719547cf9bb",
   "metadata": {
    "tags": []
   },
   "source": [
    "## Sparse Merkle Tree"
   ]
  },
  {
   "cell_type": "code",
   "execution_count": null,
   "id": "ba676f58-26c6-4bfb-8423-5cfb58f9b996",
   "metadata": {
    "tags": []
   },
   "outputs": [],
   "source": [
    "\t// // Generate a new MerkleTree with 32 levels\n",
    "\t// mt, _ := merkletree.NewMerkleTree(ctx, store, 32)\n",
    " \n",
    "\t// // Add a leaf to the tree with index 1 and value 10\n",
    "\t// index1 := big.NewInt(1)\n",
    "\t// value1 := big.NewInt(10)\n",
    "\t// mt.Add(ctx, index1, value1)\n",
    " \n",
    "\t// // Add another leaf to the tree\n",
    "\t// index2 := big.NewInt(2)\n",
    "\t// value2 := big.NewInt(15)\n",
    "\t// mt.Add(ctx, index2, value2)\n",
    " \n",
    "\t// // Proof of membership of a leaf with index 1\n",
    "\t// proofExist, value, _ := mt.GenerateProof(ctx, index1, mt.Root())\n",
    " \n",
    "\t// fmt.Println(\"Proof of membership of index=1:\", proofExist.Existence, \", siblings:\", proofExist.AllSiblings())\n",
    "\t// fmt.Println(\"Value corresponding to the queried index:\", value)\n",
    " \n",
    "\t// // Proof of non-membership of a leaf with index 4\n",
    "\t// proofNotExist, _, _ := mt.GenerateProof(ctx, big.NewInt(4), mt.Root())\n",
    " \n",
    "\t// fmt.Println(\"Proof of membership of missing index=4:\", proofNotExist.Existence, \", siblings:\", proofNotExist.AllSiblings())\n"
   ]
  },
  {
   "cell_type": "code",
   "execution_count": 8,
   "id": "98df92a5-796a-47c3-af69-5346b68737db",
   "metadata": {
    "tags": []
   },
   "outputs": [
    {
     "name": "stdout",
     "output_type": "stream",
     "text": [
      "Merkletree {}\n"
     ]
    }
   ],
   "source": [
    "// create a new Merkle Tree with 32 levels\n",
    "const prefix = new TextEncoder().encode(\"test\")\n",
    "const store = new InMemoryDB(prefix)\n",
    "const mt = new Merkletree(store, true, 32)\n",
    "mt"
   ]
  },
  {
   "cell_type": "code",
   "execution_count": 9,
   "id": "b09fcc58-8989-4c77-9b91-cd99b51566a5",
   "metadata": {
    "tags": []
   },
   "outputs": [],
   "source": [
    "// dd a leaf to the tree with index 1 and value 10\n",
    "await mt.add(BigInt(1), BigInt(10))"
   ]
  },
  {
   "cell_type": "code",
   "execution_count": 10,
   "id": "ca1bd2a9-4129-4c03-bfda-73d61f594d44",
   "metadata": {
    "tags": []
   },
   "outputs": [
    {
     "name": "stdout",
     "output_type": "stream",
     "text": [
      "{ key: \u001b[33m1n\u001b[39m, value: \u001b[33m10n\u001b[39m, siblings: [] }\n"
     ]
    }
   ],
   "source": [
    "await mt.get(BigInt(2))"
   ]
  },
  {
   "cell_type": "code",
   "execution_count": 11,
   "id": "b79ea1d3-5549-4e93-8457-8be7961bef18",
   "metadata": {
    "tags": []
   },
   "outputs": [
    {
     "name": "stdout",
     "output_type": "stream",
     "text": [
      "{ key: \u001b[33m1n\u001b[39m, value: \u001b[33m10n\u001b[39m, siblings: [] }\n"
     ]
    }
   ],
   "source": [
    "// getting a missing key does not fail\n",
    "await mt.get(BigInt(2))"
   ]
  },
  {
   "cell_type": "code",
   "execution_count": 12,
   "id": "226f789c-e155-4b99-bdf0-1568b3aaff91",
   "metadata": {
    "tags": []
   },
   "outputs": [
    {
     "name": "stdout",
     "output_type": "stream",
     "text": [
      "9ca1b6b8c60955e4695bcbe587b728d7d34292252ae9becc6341bb2ddd793b27\n"
     ]
    }
   ],
   "source": [
    "mt.root.hex()"
   ]
  },
  {
   "cell_type": "code",
   "execution_count": 13,
   "id": "b5799dba-ee79-4f12-b0d8-7a38a6a8a7d8",
   "metadata": {
    "tags": []
   },
   "outputs": [
    {
     "name": "stderr",
     "output_type": "stream",
     "text": [
      "the entry index already exists in the tree\n"
     ]
    }
   ],
   "source": [
    "// error if entry with same index already exists\n",
    "await mt.add(BigInt(1), BigInt(10))"
   ]
  },
  {
   "cell_type": "code",
   "execution_count": 14,
   "id": "44a10dfd-4f4c-4ddd-8c9d-22113fde9e89",
   "metadata": {
    "tags": []
   },
   "outputs": [],
   "source": [
    "// add another leaf to the tree\n",
    "await mt.add(BigInt(3), BigInt(15))"
   ]
  },
  {
   "cell_type": "code",
   "execution_count": 15,
   "id": "f61ea2fd-be71-440f-99b7-a555aaa6c593",
   "metadata": {
    "tags": []
   },
   "outputs": [
    {
     "name": "stdout",
     "output_type": "stream",
     "text": [
      "bb58b3663b7bb4078a917dccb87607b9eddb1979b9cbf65836689b445ce9412b\n"
     ]
    }
   ],
   "source": [
    "mt.root.hex()"
   ]
  },
  {
   "cell_type": "code",
   "execution_count": 17,
   "id": "54a5140a-d4ed-48c5-98dc-67c3c4620510",
   "metadata": {
    "tags": []
   },
   "outputs": [
    {
     "name": "stdout",
     "output_type": "stream",
     "text": [
      "{ key: \u001b[33m0n\u001b[39m, value: \u001b[33m0n\u001b[39m, siblings: [ Hash { bytes: \u001b[36m[Uint8Array]\u001b[39m } ] }\n"
     ]
    }
   ],
   "source": [
    "await mt.get(BigInt(2))"
   ]
  },
  {
   "cell_type": "code",
   "execution_count": 19,
   "id": "601bbbd4-8860-4250-99fb-4268e260bcc7",
   "metadata": {
    "tags": []
   },
   "outputs": [
    {
     "name": "stdout",
     "output_type": "stream",
     "text": [
      "Hash {\n",
      "  bytes: Uint8Array(32) [\n",
      "    \u001b[33m201\u001b[39m, \u001b[33m168\u001b[39m, \u001b[33m175\u001b[39m,  \u001b[33m26\u001b[39m, \u001b[33m218\u001b[39m, \u001b[33m209\u001b[39m,  \u001b[33m92\u001b[39m, \u001b[33m168\u001b[39m,\n",
      "    \u001b[33m151\u001b[39m, \u001b[33m126\u001b[39m,  \u001b[33m47\u001b[39m, \u001b[33m121\u001b[39m,  \u001b[33m57\u001b[39m, \u001b[33m205\u001b[39m,   \u001b[33m9\u001b[39m, \u001b[33m211\u001b[39m,\n",
      "    \u001b[33m216\u001b[39m,  \u001b[33m76\u001b[39m,   \u001b[33m6\u001b[39m,  \u001b[33m28\u001b[39m, \u001b[33m102\u001b[39m, \u001b[33m202\u001b[39m, \u001b[33m239\u001b[39m, \u001b[33m113\u001b[39m,\n",
      "     \u001b[33m28\u001b[39m, \u001b[33m181\u001b[39m, \u001b[33m183\u001b[39m, \u001b[33m204\u001b[39m,  \u001b[33m38\u001b[39m, \u001b[33m196\u001b[39m, \u001b[33m160\u001b[39m,  \u001b[33m17\u001b[39m\n",
      "  ]\n",
      "}\n"
     ]
    }
   ],
   "source": [
    "(await mt.get(BigInt(2))).siblings[0] // instanceof Hash"
   ]
  },
  {
   "cell_type": "code",
   "execution_count": 20,
   "id": "14c59909-1645-4a92-83d3-94ca7356163f",
   "metadata": {
    "tags": []
   },
   "outputs": [
    {
     "name": "stdout",
     "output_type": "stream",
     "text": [
      "{\n",
      "  \"proof\": {\n",
      "    \"existence\": true,\n",
      "    \"depth\": 2,\n",
      "    \"siblings\": [\n",
      "      \"0x6cc407c91e268cba6bd2169ddf1bea782c6c86147ec0c29d5961e654d2d3dc21\"\n",
      "    ],\n",
      "    \"notEmpties\": {\n",
      "      \"0\": 0,\n",
      "      \"1\": 0,\n",
      "      \"2\": 0,\n",
      "      \"3\": 0,\n",
      "      \"4\": 0,\n",
      "      \"5\": 0,\n",
      "      \"6\": 0,\n",
      "      \"7\": 0,\n",
      "      \"8\": 0,\n",
      "      \"9\": 0,\n",
      "      \"10\": 0,\n",
      "      \"11\": 0,\n",
      "      \"12\": 0,\n",
      "      \"13\": 0,\n",
      "      \"14\": 0,\n",
      "      \"15\": 0,\n",
      "      \"16\": 0,\n",
      "      \"17\": 0,\n",
      "      \"18\": 0,\n",
      "      \"19\": 0,\n",
      "      \"20\": 0,\n",
      "      \"21\": 0,\n",
      "      \"22\": 0,\n",
      "      \"23\": 0,\n",
      "      \"24\": 0,\n",
      "      \"25\": 0,\n",
      "      \"26\": 0,\n",
      "      \"27\": 0,\n",
      "      \"28\": 0,\n",
      "      \"29\": 2\n",
      "    }\n",
      "  },\n",
      "  \"value\": 10\n",
      "}\n"
     ]
    }
   ],
   "source": [
    "// proof of membership of a leaf with index 1\n",
    "let proof = await mt.generateProof(BigInt(1))\n",
    "json(proof)"
   ]
  },
  {
   "cell_type": "code",
   "execution_count": 21,
   "id": "a8f39974-d1b4-4ff4-801f-c6f5e185126f",
   "metadata": {
    "tags": []
   },
   "outputs": [
    {
     "name": "stdout",
     "output_type": "stream",
     "text": [
      "{\n",
      "  \"proof\": {\n",
      "    \"existence\": false,\n",
      "    \"depth\": 1,\n",
      "    \"siblings\": [\n",
      "      \"0xc9a8af1adad15ca8977e2f7939cd09d3d84c061c66caef711cb5b7cc26c4a011\"\n",
      "    ],\n",
      "    \"notEmpties\": {\n",
      "      \"0\": 0,\n",
      "      \"1\": 0,\n",
      "      \"2\": 0,\n",
      "      \"3\": 0,\n",
      "      \"4\": 0,\n",
      "      \"5\": 0,\n",
      "      \"6\": 0,\n",
      "      \"7\": 0,\n",
      "      \"8\": 0,\n",
      "      \"9\": 0,\n",
      "      \"10\": 0,\n",
      "      \"11\": 0,\n",
      "      \"12\": 0,\n",
      "      \"13\": 0,\n",
      "      \"14\": 0,\n",
      "      \"15\": 0,\n",
      "      \"16\": 0,\n",
      "      \"17\": 0,\n",
      "      \"18\": 0,\n",
      "      \"19\": 0,\n",
      "      \"20\": 0,\n",
      "      \"21\": 0,\n",
      "      \"22\": 0,\n",
      "      \"23\": 0,\n",
      "      \"24\": 0,\n",
      "      \"25\": 0,\n",
      "      \"26\": 0,\n",
      "      \"27\": 0,\n",
      "      \"28\": 0,\n",
      "      \"29\": 1\n",
      "    }\n",
      "  },\n",
      "  \"value\": 0\n",
      "}\n"
     ]
    }
   ],
   "source": [
    "// proof of non-membership of a leaf with index 4\n",
    "let proof = await mt.generateProof(BigInt(4))\n",
    "json(proof)"
   ]
  },
  {
   "cell_type": "code",
   "execution_count": null,
   "id": "f1cfb66b-e927-413b-90e6-d158ffcb90c3",
   "metadata": {
    "tags": []
   },
   "outputs": [],
   "source": [
    "// await mt.printGraphViz (mt.root)"
   ]
  },
  {
   "cell_type": "code",
   "execution_count": null,
   "id": "faee4d9c-863d-4bc7-8591-d4ed34c3b34f",
   "metadata": {},
   "outputs": [],
   "source": []
  }
 ],
 "metadata": {
  "kernelspec": {
   "display_name": "TypeScript",
   "language": "typescript",
   "name": "tslab"
  },
  "language_info": {
   "codemirror_mode": {
    "mode": "typescript",
    "name": "javascript",
    "typescript": true
   },
   "file_extension": ".ts",
   "mimetype": "text/typescript",
   "name": "typescript",
   "version": "3.7.2"
  }
 },
 "nbformat": 4,
 "nbformat_minor": 5
}
