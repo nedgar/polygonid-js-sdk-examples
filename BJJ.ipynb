{
 "cells": [
  {
   "cell_type": "markdown",
   "id": "42755092-ee09-4bf3-a7f4-5f698844c922",
   "metadata": {},
   "source": [
    "## Baby JubJub elliptic curve"
   ]
  },
  {
   "cell_type": "code",
   "execution_count": 1,
   "id": "67d4fe42-1ca8-4d70-927b-3a425cae8349",
   "metadata": {
    "tags": []
   },
   "outputs": [
    {
     "name": "stdout",
     "output_type": "stream",
     "text": [
      "\u001b[33m21888242871839275222246405745257275088548364400416034343698204186575808495617n\u001b[39m\n"
     ]
    }
   ],
   "source": [
    "import { babyJub } from \"@iden3/js-crypto\"\n",
    "\n",
    "// BJJ is an elliptic curve over a finite field with prime p\n",
    "babyJub.p"
   ]
  },
  {
   "cell_type": "code",
   "execution_count": 2,
   "id": "832233b0-8d9d-43e9-87bf-e21a40383a12",
   "metadata": {
    "tags": []
   },
   "outputs": [
    {
     "name": "stdout",
     "output_type": "stream",
     "text": [
      "\u001b[33m2.1888242871839275e+76\u001b[39m\n"
     ]
    }
   ],
   "source": [
    "// Only values < p are valid inputs.\n",
    "Number(babyJub.p)"
   ]
  },
  {
   "cell_type": "code",
   "execution_count": 3,
   "id": "cffc5e7f-1c2a-4372-8d65-087919dea740",
   "metadata": {
    "tags": []
   },
   "outputs": [
    {
     "name": "stdout",
     "output_type": "stream",
     "text": [
      "\u001b[33m253.59669135500215\u001b[39m\n"
     ]
    }
   ],
   "source": [
    "// How many bits?\n",
    "Math.log2(Number(babyJub.p))"
   ]
  },
  {
   "cell_type": "code",
   "execution_count": null,
   "id": "167f78a3-51ef-4912-8a2b-ecac0a43c0d2",
   "metadata": {},
   "outputs": [],
   "source": []
  }
 ],
 "metadata": {
  "kernelspec": {
   "display_name": "TypeScript",
   "language": "typescript",
   "name": "tslab"
  },
  "language_info": {
   "codemirror_mode": {
    "mode": "typescript",
    "name": "javascript",
    "typescript": true
   },
   "file_extension": ".ts",
   "mimetype": "text/typescript",
   "name": "typescript",
   "version": "3.7.2"
  }
 },
 "nbformat": 4,
 "nbformat_minor": 5
}
